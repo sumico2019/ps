{
  "nbformat": 4,
  "nbformat_minor": 0,
  "metadata": {
    "colab": {
      "name": "irasutoya.ipynb",
      "provenance": [],
      "authorship_tag": "ABX9TyPpOG9gH1GVTkB9Y7z5jCFx",
      "include_colab_link": true
    },
    "kernelspec": {
      "name": "python3",
      "display_name": "Python 3"
    },
    "language_info": {
      "name": "python"
    }
  },
  "cells": [
    {
      "cell_type": "markdown",
      "metadata": {
        "id": "view-in-github",
        "colab_type": "text"
      },
      "source": [
        "<a href=\"https://colab.research.google.com/github/sumico2019/ps/blob/main/irasutoya.ipynb\" target=\"_parent\"><img src=\"https://colab.research.google.com/assets/colab-badge.svg\" alt=\"Open In Colab\"/></a>"
      ]
    },
    {
      "cell_type": "code",
      "execution_count": 1,
      "metadata": {
        "colab": {
          "base_uri": "https://localhost:8080/"
        },
        "id": "yEhE03LU5VUW",
        "outputId": "5009cfa7-b70a-4c60-84ef-aaba67d1ac03"
      },
      "outputs": [
        {
          "output_type": "stream",
          "name": "stdout",
          "text": [
            "いらすとや/cat01_moyou_black.png\n",
            "いらすとや/cat02_moyou_white.png\n",
            "いらすとや/cat03_moyou_gray.png\n",
            "いらすとや/cat04_moyou_black_moyou_white.png\n",
            "いらすとや/cat05_moyou_gray_moyou_white.png\n",
            "いらすとや/cat06_moyou_chatora.png\n",
            "いらすとや/cat07_moyou_kijitora.png\n",
            "いらすとや/cat08_moyou_sabatora.png\n",
            "いらすとや/cat09_moyou_chatora_moyou_white.png\n",
            "いらすとや/cat10_moyou_kijitora_moyou_white.png\n",
            "いらすとや/cat11_moyou_sabatora_moyou_white.png\n",
            "いらすとや/cat12_moyou_mike.png\n",
            "いらすとや/cat13_moyou_sabi.png\n",
            "いらすとや/cat14_moyou_buchi.png\n",
            "いらすとや/cat15_moyou_pointed.png\n",
            "いらすとや/cat_hand_white.png\n",
            "いらすとや/cat_hand_mike.png\n",
            "いらすとや/cat_hand_gray.png\n",
            "いらすとや/cat_hand_brown.png\n",
            "いらすとや/cat_hand_black.png\n",
            "いらすとや/cat_hand_white_back.png\n",
            "いらすとや/cat_hand_mike_back.png\n",
            "いらすとや/cat_hand_gray_back.png\n",
            "いらすとや/cat_hand_brown_back.png\n",
            "いらすとや/cat_hand_black_back.png\n",
            "いらすとや/cat3_1_question.png\n",
            "いらすとや/cat3_2_heart.png\n",
            "いらすとや/cat3_3_sleep.png\n",
            "いらすとや/cat3_4_tehe.png\n",
            "いらすとや/cat_nekoko.png\n",
            "いらすとや/cat_tomomo.png\n",
            "いらすとや/cat_fukidashi_nekoko.png\n",
            "いらすとや/cat_fukidashi_tomomo.png\n",
            "いらすとや/cat_nekoko_hansei.png\n",
            "いらすとや/cat_tomomo_uruuru.png\n",
            "いらすとや/pet_nekosuna.png\n",
            "いらすとや/cat2_1_idea.png\n",
            "いらすとや/cat2_2_surprise.png\n",
            "いらすとや/cat2_3_shock.png\n",
            "いらすとや/cat2_4_think.png\n",
            "いらすとや/animal_cat_back.png\n",
            "いらすとや/animal_cat_front.png\n",
            "いらすとや/animal_cat_side.png\n",
            "いらすとや/animal_cat_top.png\n"
          ]
        }
      ],
      "source": [
        "#●画像ファイルをダウンロードするための準備\n",
        "# ①-①.ライブラリをインポート\n",
        "import time\n",
        "import re\n",
        "import requests\n",
        "from pathlib import Path\n",
        "from bs4 import BeautifulSoup\n",
        "# ①-②.出力フォルダを作成\n",
        "output_folder = Path('いらすとや')\n",
        "output_folder.mkdir(exist_ok=True)\n",
        "# ①-③.スクレイピングしたいURLを設定\n",
        "url = 'https://www.irasutoya.com/search?q=%E7%8C%AB'\n",
        "# ①-④.画像ページのURLを格納するリストを用意\n",
        "linklist = []\n",
        "\n",
        "#●検索結果ページから画像のリンクを取り出す\n",
        "# ②-①.検索結果ページのhtmlを取得\n",
        "html = requests.get(url).text\n",
        "# ②-②.検索結果ページのオブジェクトを作成\n",
        "soup = BeautifulSoup(html, 'lxml')\n",
        "# ②-③.画像リンクのタグをすべて取得\n",
        "a_list =soup.select('div.boxmeta.clearfix > h2 > a')\n",
        "# ②-④.画像リンクを1つずつ取り出す\n",
        "for a in a_list:\n",
        "# ②-⑤.画像ページのURLを抽出\n",
        "    link_url = a.attrs['href']\n",
        "# ②-⑥.画像ページのURLをリストに追加\n",
        "    linklist.append(link_url)\n",
        "    time.sleep(1.0)\n",
        "    \n",
        "# ●各画像ページから画像ファイルのURLを特定  \n",
        "# ③-①.画像ページのURLを1つずつ取り出す\n",
        "for page_url in linklist:\n",
        "# ③-②.画像ページのhtmlを取得\n",
        "    page_html = requests.get(page_url).text\n",
        "# ③-③.画像ページのオブジェクトを作成\n",
        "    page_soup = BeautifulSoup(page_html, \"lxml\")\n",
        "# ③-④.画像ファイルのタグをすべて取得\n",
        "    img_list = page_soup.select('div.entry > div > a > img')\n",
        "# ③-⑤.imgタグを1つずつ取り出す\n",
        "    for img in img_list:\n",
        "# ③-⑥.画像ファイルのURLを抽出\n",
        "        img_url = (img.attrs['src'])\n",
        "# ③-⑦.画像ファイルの名前を抽出\n",
        "        filename = re.search(\".*\\/(.*png|.*jpg)$\",img_url)\n",
        "# ③-⑧.保存先のファイルパスを生成\n",
        "        save_path = output_folder.joinpath(filename.group(1))\n",
        "        time.sleep(1.0)\n",
        "# ●画像ファイルのURLからデータをダウンロード\n",
        "        try:\n",
        "# ④-①.画像ファイルのURLからデータを取得\n",
        "            image = requests.get(img_url)\n",
        "# ④-②.保存先のファイルパスにデータを保存\n",
        "            open(save_path, 'wb').write(image.content)\n",
        "# ④-③.保存したファイル名を表示\n",
        "            print(save_path)\n",
        "            time.sleep(1.0)\n",
        "        except ValueError:\n",
        "# ④-④.失敗した場合はエラー表示\n",
        "            print(\"ValueError!\")"
      ]
    }
  ]
}