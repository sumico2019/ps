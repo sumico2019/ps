{
  "nbformat": 4,
  "nbformat_minor": 0,
  "metadata": {
    "colab": {
      "name": "nikkei.ipynb",
      "provenance": [],
      "collapsed_sections": [],
      "authorship_tag": "ABX9TyPk/Kcbjd8D0k76HECrvQr3",
      "include_colab_link": true
    },
    "kernelspec": {
      "name": "python3",
      "display_name": "Python 3"
    },
    "language_info": {
      "name": "python"
    }
  },
  "cells": [
    {
      "cell_type": "markdown",
      "metadata": {
        "id": "view-in-github",
        "colab_type": "text"
      },
      "source": [
        "<a href=\"https://colab.research.google.com/github/sumico2019/ps/blob/main/nikkei.ipynb\" target=\"_parent\"><img src=\"https://colab.research.google.com/assets/colab-badge.svg\" alt=\"Open In Colab\"/></a>"
      ]
    },
    {
      "cell_type": "code",
      "metadata": {
        "colab": {
          "base_uri": "https://localhost:8080/",
          "height": 607
        },
        "id": "UZI6Muqihp4t",
        "outputId": "4c60257f-f5be-4c70-eb9f-961a047795d6"
      },
      "source": [
        "import pandas_datareader.data as web\n",
        "import pandas as pd\n",
        "import datetime\n",
        "import numpy as np\n",
        "import matplotlib.pyplot as plt\n",
        "from sklearn.ensemble import RandomForestClassifier\n",
        "from sklearn.model_selection import train_test_split\n",
        "from sklearn.model_selection import KFold\n",
        "from sklearn.model_selection import GridSearchCV\n",
        "from sklearn.metrics import classification_report\n",
        "from sklearn.metrics import accuracy_score\n",
        "\n",
        "\n",
        "#Get Nikkei stock average from web\n",
        "nikkei = web.DataReader(\"NIKKEI225\", \"fred\", \"1950/1/1\")\n",
        "plt.plot(nikkei)\n",
        "\n",
        "# データをCSV出力する\n",
        "nikkei.to_csv('nikkei.csv')\n",
        "\n",
        "#Transform to Logarithmic rate of return\n",
        "nikkei['log_change']=np.log(nikkei['NIKKEI225'])-np.log(nikkei['NIKKEI225'].shift(1))\n",
        "nikkei2=nikkei['log_change'].values\n",
        "\n",
        "#Reshape for matrix with 7days data + 8th-day data as one line\n",
        "term = 7\n",
        "pricedata = []\n",
        "\n",
        "length=len(nikkei2)\n",
        "for i in range(0,length-term-1):\n",
        "    pricedata.append(nikkei2[i:i+term+1])\n",
        "\n",
        "df=pd.DataFrame(np.array(pricedata).reshape(-1,8))\n",
        "df.columns = ['1st_day', '2nd_day', '3rd_day','4th_day', '5th_day', '6th_day','7th_day','8th_day_pred']\n",
        "\n",
        "#Delete N/A data\n",
        "df=df.dropna()\n",
        "df=df.reset_index(drop=True)\n",
        "\n",
        "#Transfrom to boolian based on the increase/decrease from 1 day before\n",
        "for i in range(1,len(df)):\n",
        "    if df['8th_day_pred'][i]>0:\n",
        "        df['8th_day_pred'][i]=1\n",
        "    elif df['8th_day_pred'][i]<0:\n",
        "        df['8th_day_pred'][i]=0\n",
        "\n",
        "#Separate conditions and answer\n",
        "x=np.array(df.drop(['8th_day_pred'],axis=1))\n",
        "y=np.array(df['8th_day_pred'], dtype=np.int16)\n",
        "\n",
        "#Separate train data and test data\n",
        "x_train, x_test, y_train, y_test = train_test_split(x, y, test_size=0.3, random_state=0,shuffle=False)\n",
        "\n",
        "#Set grid search condition\n",
        "grid_param = [{\"n_estimators\": [50,100],\n",
        "               \"max_depth\"   : [None,5],\n",
        "              }]\n",
        "\n",
        "#Set cross validation condition\n",
        "kfold_cv = KFold(n_splits=5, shuffle=True)\n",
        "\n",
        "#Set algorizm\n",
        "clf = GridSearchCV(RandomForestClassifier(), grid_param, cv=kfold_cv)\n",
        "\n",
        "#Machine learning\n",
        "clf.fit(x_train, y_train)\n",
        "print(\"Best parameter = \", clf.best_estimator_)\n",
        "\n",
        "#Prediction\n",
        "y_pred = clf.predict(x_test)\n",
        "\n",
        "#output\n",
        "print(classification_report(y_pred, y_test))\n",
        "print(\"Accuracy [%] = \" , accuracy_score(y_test, y_pred))\n",
        "print(datetime.datetime.now().strftime('%Y.%m.%d. %H:%M:%S'), \"   Analysis have done\")"
      ],
      "execution_count": null,
      "outputs": [
        {
          "output_type": "stream",
          "name": "stdout",
          "text": [
            "Best parameter =  RandomForestClassifier(bootstrap=True, ccp_alpha=0.0, class_weight=None,\n",
            "                       criterion='gini', max_depth=5, max_features='auto',\n",
            "                       max_leaf_nodes=None, max_samples=None,\n",
            "                       min_impurity_decrease=0.0, min_impurity_split=None,\n",
            "                       min_samples_leaf=1, min_samples_split=2,\n",
            "                       min_weight_fraction_leaf=0.0, n_estimators=100,\n",
            "                       n_jobs=None, oob_score=False, random_state=None,\n",
            "                       verbose=0, warm_start=False)\n",
            "              precision    recall  f1-score   support\n",
            "\n",
            "           0       0.29      0.47      0.36      1201\n",
            "           1       0.69      0.51      0.59      2799\n",
            "\n",
            "    accuracy                           0.50      4000\n",
            "   macro avg       0.49      0.49      0.47      4000\n",
            "weighted avg       0.57      0.50      0.52      4000\n",
            "\n",
            "Accuracy [%] =  0.49625\n",
            "2021.10.28. 15:37:43    Analysis have done\n"
          ]
        },
        {
          "output_type": "display_data",
          "data": {
            "image/png": "[encoded data removed]",
            "text/plain": [
              "<Figure size 432x288 with 1 Axes>"
            ]
          },
          "metadata": {
            "needs_background": "light"
          }
        }
      ]
    },
    {
      "cell_type": "code",
      "metadata": {
        "id": "0hey1tD2hv5Y"
      },
      "source": [
        ""
      ],
      "execution_count": null,
      "outputs": []
    }
  ]
}